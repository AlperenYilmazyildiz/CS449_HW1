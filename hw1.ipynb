{
 "cells": [
  {
   "cell_type": "markdown",
   "metadata": {},
   "source": [
    "# Homework 1 \n",
    "\n",
    "Ahmet Alperen Yılmazyıldız 22002712"
   ]
  },
  {
   "cell_type": "code",
   "execution_count": 1,
   "metadata": {},
   "outputs": [],
   "source": [
    "import robotic as ry\n",
    "import numpy as np\n",
    "import time\n",
    "\n",
    "C = ry.Config()"
   ]
  },
  {
   "cell_type": "markdown",
   "metadata": {},
   "source": [
    "### Question 1\n",
    "#### Part A"
   ]
  },
  {
   "cell_type": "code",
   "execution_count": 2,
   "metadata": {},
   "outputs": [
    {
     "name": "stdout",
     "output_type": "stream",
     "text": [
      "position:  [-0.4    2.1    0.815]\n",
      "orientation:  [1. 0. 0. 0.]\n"
     ]
    },
    {
     "data": {
      "text/plain": [
       "0"
      ]
     },
     "execution_count": 2,
     "metadata": {},
     "output_type": "execute_result"
    }
   ],
   "source": [
    "C.addFile(ry.raiPath(\"../rai-robotModels/objects/kitchen.g\"))\n",
    "\n",
    "f1 = C.addFrame(name=\"hammer_handle\", parent=\"sink1\")\n",
    "f1.setShape(type=ry.ST.ssBox, size=[0.3, 0.05, 0.03, 0.005])\n",
    "f1.setColor([0.65, 0.50, 0.39])\n",
    "f1.setRelativePosition([0.1, 0.1, 0.415])\n",
    "\n",
    "f2 = C.addFrame(name=\"hammer_head\", parent=\"hammer_handle\")\n",
    "f2.setShape(type=ry.ST.ssBox, size=[0.1, 0.05, 0.03, 0.005])\n",
    "f2.setColor([0.55, 0.57, 0.58])\n",
    "f2.setRelativePosition([0.125, 0.0, 0.0])\n",
    "f2.setQuaternion([1., 1., 1., 1.])\n",
    "\n",
    "print(\"position: \", f1.getPosition())\n",
    "print(\"orientation: \", f1.getQuaternion())\n",
    "C.view()"
   ]
  },
  {
   "cell_type": "markdown",
   "metadata": {},
   "source": [
    "#### Part B"
   ]
  },
  {
   "cell_type": "code",
   "execution_count": 3,
   "metadata": {},
   "outputs": [
    {
     "data": {
      "text/plain": [
       "0"
      ]
     },
     "execution_count": 3,
     "metadata": {},
     "output_type": "execute_result"
    }
   ],
   "source": [
    "f3 = C.addFrame(name=\"mug\", parent=\"sink1\")\n",
    "f3.setShape(type=ry.ST.ssBox, size=[0.05, 0.05, 0.2, .01])\n",
    "f3.setColor([0.2, 0.2, 0.2])\n",
    "f3.setRelativePosition([-0.1, -0.1, 0.5])\n",
    "\n",
    "f4 = C.addFrame(name=\"tray\", parent=\"stove1\")\n",
    "f4.setShape(type=ry.ST.ssBox, size=[0.2, 0.2, 0.05, 0.02])\n",
    "f4.setColor([0.0, 1.0, 0.0])\n",
    "f4.setRelativePosition([0.0, 0.0, 0.42])\n",
    "f4.setQuaternion([0.92388, 0.0, 0.0, 0.38268])\n",
    "\n",
    "C.view()"
   ]
  },
  {
   "cell_type": "markdown",
   "metadata": {},
   "source": [
    "#### Part C"
   ]
  },
  {
   "cell_type": "code",
   "execution_count": 4,
   "metadata": {},
   "outputs": [
    {
     "name": "stdout",
     "output_type": "stream",
     "text": [
      "[0.5  2.   0.82]\n",
      "-- WARNING:kin.cpp:addFrame:193(-1) frame already exists! returning existing without modifications![2.    0.    0.795]\n",
      "\n",
      "-- WARNING:kin.cpp:addFrame:193(-1) frame already exists! returning existing without modifications!\n",
      "-- WARNING:kin.cpp:addFrame:193(-1) frame already exists! returning existing without modifications!\n"
     ]
    }
   ],
   "source": [
    "positions = [[0.5, 2., 0.82], [2., 0., 0.795]]\n",
    "\n",
    "f5 = C.addFrame(name=\"tray2\", parent=\"stove1\")\n",
    "f5.setShape(type=ry.ST.ssBox, size=[0.4, 0.4, 0.05, 0.02])\n",
    "f5.setColor([0.0, 1.0, 0.0])\n",
    "f5.setRelativePosition([0.0, 0.0, 0.42])\n",
    "f5.setQuaternion([0.92388, 0.0, 0.0, 0.38268])\n",
    "\n",
    "for i in range(2):\n",
    "    f5.setPosition(positions[i])\n",
    "\n",
    "    f6 = C.addFrame(name=\"hammer_handle2\", parent=\"tray2\")\n",
    "    f6.setShape(type=ry.ST.ssBox, size=[0.3, 0.05, 0.03, 0.005])\n",
    "    f6.setColor([0.65, 0.50, 0.39])\n",
    "    f6.setRelativePosition([0, 0.1, 0.04])\n",
    "\n",
    "    f7 = C.addFrame(name=\"hammer_head2\", parent=\"hammer_handle2\")\n",
    "    f7.setShape(type=ry.ST.ssBox, size=[0.1, 0.05, 0.03, 0.005])\n",
    "    f7.setColor([0.55, 0.57, 0.58])\n",
    "    f7.setRelativePosition([0.12, 0.0, 0.001])\n",
    "    f7.setRelativeQuaternion([1, 0, 0, 1])\n",
    "\n",
    "    f8 = C.addFrame(name=\"mug2\", parent=\"tray2\")\n",
    "    f8.setShape(type=ry.ST.ssBox, size=[0.05, 0.05, 0.2, .01])\n",
    "    f8.setColor([0.2, 0.2, 0.2])\n",
    "    f8.setRelativePosition([-0.1, -0.1, 0.125])\n",
    "    print(f5.getPosition())\n",
    "    C.view()\n",
    "    time.sleep(5)\n",
    "    "
   ]
  },
  {
   "cell_type": "markdown",
   "metadata": {},
   "source": [
    "### Question 2\n",
    "#### Part A"
   ]
  },
  {
   "cell_type": "code",
   "execution_count": 5,
   "metadata": {},
   "outputs": [
    {
     "data": {
      "text/plain": [
       "0"
      ]
     },
     "execution_count": 5,
     "metadata": {},
     "output_type": "execute_result"
    }
   ],
   "source": [
    "C.clear()\n",
    "K = ry.Config()\n",
    "K.addFile(\"two_link_manipulator.g\")\n",
    "\n",
    "K.view()"
   ]
  },
  {
   "cell_type": "markdown",
   "metadata": {},
   "source": [
    "#### Part B"
   ]
  },
  {
   "cell_type": "code",
   "execution_count": 6,
   "metadata": {},
   "outputs": [
    {
     "name": "stdout",
     "output_type": "stream",
     "text": [
      "-- WARNING:kin.cpp:addFrame:193(-1) frame already exists! returning existing without modifications!\n"
     ]
    },
    {
     "data": {
      "text/plain": [
       "<robotic._robotic.Frame at 0x71731a1cf9f0>"
      ]
     },
     "execution_count": 6,
     "metadata": {},
     "output_type": "execute_result"
    }
   ],
   "source": [
    "target = K.addFrame(\"target\")\n",
    "joint_angles = 2 * np.pi * np.random.rand(3)\n",
    "\n",
    "def forward_kinematics(q):\n",
    "    q0 = q[0]\n",
    "    q1 = q[1]\n",
    "    y = np.sin(q0) + np.sin(q0+q1) \n",
    "    z = np.cos(q0) + np.cos(q0+q1)\n",
    "    return np.array([0, y, z])\n",
    "\n",
    "pos_target = forward_kinematics(joint_angles)\n",
    "target.setPosition(pos_target) #set the target positon in this line\n",
    "K.setJointState(joint_angles) #set the joint angels in this line \n",
    "K.view()\n",
    "#restart the joint configuration for the next run\n",
    "q = np.zeros(K.getJointDimension())\n",
    "K.setJointState(q)\n",
    "target.setPosition([0,0,0])"
   ]
  },
  {
   "cell_type": "markdown",
   "metadata": {},
   "source": [
    "#### Part C"
   ]
  },
  {
   "cell_type": "code",
   "execution_count": 7,
   "metadata": {},
   "outputs": [
    {
     "name": "stdout",
     "output_type": "stream",
     "text": [
      "[[ 0.01474768  0.3868342 ]\n",
      " [-0.00604877  0.92214929]]\n"
     ]
    }
   ],
   "source": [
    "def Jacobian(q):\n",
    "    q0 = q[0]\n",
    "    q1 = q[1]\n",
    "    dydq0 = np.cos(q0) + np.cos(q0+q1)\n",
    "    dzdq0 = -np.sin(q0) - np.sin(q0+q1)\n",
    "    dydq1 = np.cos(q0+q1)\n",
    "    dzdq1 = -np.sin(q0+q1)\n",
    "    return np.array([[dydq0, dydq1], [dzdq0, dzdq1]])\n",
    "\n",
    "joint_angles = [1.95205226, 3.15753276, 0]\n",
    "J = Jacobian(joint_angles)\n",
    "print(J)"
   ]
  },
  {
   "cell_type": "markdown",
   "metadata": {},
   "source": [
    "### Question 4"
   ]
  },
  {
   "cell_type": "code",
   "execution_count": 28,
   "metadata": {},
   "outputs": [],
   "source": [
    "del C\n",
    "del komo"
   ]
  },
  {
   "cell_type": "code",
   "execution_count": 29,
   "metadata": {},
   "outputs": [
    {
     "data": {
      "text/plain": [
       "0"
      ]
     },
     "execution_count": 29,
     "metadata": {},
     "output_type": "execute_result"
    }
   ],
   "source": [
    "CB = ry.Config()\n",
    "CB.addFile(\"Cargobot/cargo.g\")\n",
    "CB.addFile(\"Cargobot/cargobot.g\")\n",
    "CB.addFile(\"Cargobot/maze.g\")\n",
    "CB.view()"
   ]
  },
  {
   "cell_type": "code",
   "execution_count": 30,
   "metadata": {},
   "outputs": [],
   "source": [
    "S = ry.Skeleton()\n",
    "\n",
    "S.addEntry([1., 1.], ry.SY.touch,  [\"l_panda_joint4\", \"cargo_handle\"])\n",
    "S.addEntry([1., 2.], ry.SY.stable, [\"l_panda_joint4\", \"cargo_handle\"])\n",
    "S.addEntry([0.8, 1.2], ry.SY.downUp, [\"l_panda_joint4\"])\n",
    "S.addEntry([1.8, 2.2], ry.SY.downUp, [\"l_panda_joint4\"])\n",
    "S.addEntry([2., 2.], ry.SY.poseEq, [\"cargo_handle\", \"cp1\"])\n",
    "#S.addEntry([2., 2.], ry.SY.poseEq, [\"cargo_handle\", \"cp2\"])\n",
    "#S.addEntry([2., 2.], ry.SY.poseEq, [\"cargo_handle\", \"final\"])\n",
    "S.addEntry([2., -1], ry.SY.stable, [\"goal_area\", \"cargo_handle\"])"
   ]
  },
  {
   "cell_type": "markdown",
   "metadata": {},
   "source": [
    "lenScale, homingScale, and collScale are parameters that are likely used for some kind of optimization or cost function. Here's a brief explanation of each:\n",
    "\n",
    "    lenScale (Length Scale): This parameter is likely used to control the relative importance of the length or distance-related terms in the optimization. A higher value would mean that length-related terms have more influence on the optimization, while a lower value would reduce their impact.\n",
    "\n",
    "    homingScale (Homing Scale): This parameter might be related to a \"homing\" behavior, which typically means returning to a specific position or configuration. It could control how strongly the algorithm prioritizes returning to a specific home position.\n",
    "\n",
    "    collScale (Collision Scale): This parameter likely controls how much the optimization considers avoiding collisions. A higher value would mean that avoiding collisions is more important, while a lower value would reduce its importance."
   ]
  },
  {
   "cell_type": "code",
   "execution_count": 27,
   "metadata": {},
   "outputs": [
    {
     "name": "stdout",
     "output_type": "stream",
     "text": [
      "{ time: 4.44149, evals: 1000, done: 1, feasible: 0, sos: 8.16002, f: 0, ineq: 0, eq: 653.528 }\n",
      "size of path: (66, 10)\n"
     ]
    },
    {
     "data": {
      "text/plain": [
       "True"
      ]
     },
     "execution_count": 27,
     "metadata": {},
     "output_type": "execute_result"
    }
   ],
   "source": [
    "## solve for waypoints: create a komo instance, create nlp instance, then call generic solver\n",
    "\n",
    "komo = S.getKomo_path(CB, stepsPerPhase=30, accScale=1e0, lenScale=1e-2, homingScale=1e-1, collScale=1e0)\n",
    "\n",
    "ret = ry.NLP_Solver(komo.nlp(), verbose=0 ) .solve() ## WHAT IS NLP!! SOLVER?\n",
    "print(ret)\n",
    "q = komo.getPath()\n",
    "print('size of path:', q.shape)\n",
    "\n",
    "komo.view(False, \"result\")\n",
    "komo.view_play(True, .5)"
   ]
  },
  {
   "cell_type": "code",
   "execution_count": 31,
   "metadata": {},
   "outputs": [
    {
     "name": "stdout",
     "output_type": "stream",
     "text": [
      "====nlp==== method:AugmentedLagrangian bounded: yes\n",
      "==nlp== it:0 evals:0 mu:1 nu:1 muLB:0.1\n",
      "==nlp== it:   0  evals: 365  A(x):     425111  f:    5.23201  g:          0  h:    660.006  |x-x'|:    2.75973 \tstop:TinyXSteps (bad:1)\n",
      "==nlp== it:   1  evals: 365  A(x):2.97574e+06  mu:5\n",
      "==nlp== it:   1  evals:1000  A(x):2.97574e+06  f:    8.16148  g:          0  h:    653.527  |x-x'|:    0.29525 \tstop:CritEvals (bad:2)\n",
      "==nlp== StoppingCriterion MAX EVALS\n",
      "{ time: 4.3215, evals: 1000, done: 1, feasible: 0, sos: 8.16148, f: 0, ineq: 0, eq: 653.527 }\n"
     ]
    }
   ],
   "source": [
    "komo = S.getKomo_path(CB, stepsPerPhase=30, accScale=1e0, lenScale=1e-2, homingScale=1e-1, collScale=1e0)\n",
    "nlp = komo.nlp()\n",
    "sol = ry.NLP_Solver()\n",
    "sol.setProblem(nlp)\n",
    "sol.setOptions( stopTolerance=1e-2 )\n",
    "ret = sol.solve()\n",
    "waypoints = komo.getPath_qAll()\n",
    "# report on result, view, and play\n",
    "print(ret)"
   ]
  },
  {
   "cell_type": "code",
   "execution_count": 33,
   "metadata": {},
   "outputs": [
    {
     "data": {
      "text/plain": [
       "True"
      ]
     },
     "execution_count": 33,
     "metadata": {},
     "output_type": "execute_result"
    }
   ],
   "source": [
    "komo.view_play(True, .2)"
   ]
  }
 ],
 "metadata": {
  "kernelspec": {
   "display_name": "Python 3",
   "language": "python",
   "name": "python3"
  },
  "language_info": {
   "codemirror_mode": {
    "name": "ipython",
    "version": 3
   },
   "file_extension": ".py",
   "mimetype": "text/x-python",
   "name": "python",
   "nbconvert_exporter": "python",
   "pygments_lexer": "ipython3",
   "version": "3.10.12"
  }
 },
 "nbformat": 4,
 "nbformat_minor": 2
}
