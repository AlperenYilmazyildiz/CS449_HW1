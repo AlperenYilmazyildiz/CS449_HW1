{
 "cells": [
  {
   "cell_type": "markdown",
   "metadata": {},
   "source": [
    "# Homework 1 \n",
    "\n",
    "Ahmet Alperen Yılmazyıldız 22002712"
   ]
  },
  {
   "cell_type": "code",
   "execution_count": 1,
   "metadata": {},
   "outputs": [
    {
     "data": {
      "text/plain": [
       "<robotic._robotic.Frame at 0x78502f5a0c70>"
      ]
     },
     "execution_count": 1,
     "metadata": {},
     "output_type": "execute_result"
    }
   ],
   "source": [
    "import robotic as ry\n",
    "import numpy as np\n",
    "import time\n",
    "\n",
    "C = ry.Config()\n",
    "\n",
    "C.addFile(ry.raiPath(\"../rai-robotModels/objects/kitchen.g\"))"
   ]
  },
  {
   "cell_type": "markdown",
   "metadata": {},
   "source": [
    "### Question 1\n",
    "#### Part A"
   ]
  },
  {
   "cell_type": "code",
   "execution_count": 2,
   "metadata": {},
   "outputs": [
    {
     "name": "stdout",
     "output_type": "stream",
     "text": [
      "position:  [-0.4    2.1    0.815]\n",
      "orientation:  [1. 0. 0. 0.]\n"
     ]
    },
    {
     "data": {
      "text/plain": [
       "0"
      ]
     },
     "execution_count": 2,
     "metadata": {},
     "output_type": "execute_result"
    }
   ],
   "source": [
    "f1 = C.addFrame(name=\"hammer_handle\", parent=\"sink1\")\n",
    "f1.setShape(type=ry.ST.ssBox, size=[0.3, 0.05, 0.03, 0.005])\n",
    "f1.setColor([0.65, 0.50, 0.39])\n",
    "f1.setRelativePosition([0.1, 0.1, 0.415])\n",
    "\n",
    "f2 = C.addFrame(name=\"hammer_head\", parent=\"hammer_handle\")\n",
    "f2.setShape(type=ry.ST.ssBox, size=[0.1, 0.05, 0.03, 0.005])\n",
    "f2.setColor([0.55, 0.57, 0.58])\n",
    "f2.setRelativePosition([0.125, 0.0, 0.0])\n",
    "f2.setQuaternion([1., 1., 1., 1.])\n",
    "\n",
    "print(\"position: \", f1.getPosition())\n",
    "print(\"orientation: \", f1.getQuaternion())\n",
    "C.view()"
   ]
  },
  {
   "cell_type": "markdown",
   "metadata": {},
   "source": [
    "#### Part B"
   ]
  },
  {
   "cell_type": "code",
   "execution_count": null,
   "metadata": {},
   "outputs": [],
   "source": [
    "f3 = C.addFrame(name=\"mug\", parent=\"sink1\")\n",
    "f3.setShape(type=ry.ST.ssBox, size=[0.05, 0.05, 0.2, .01])\n",
    "f3.setColor([0.2, 0.2, 0.2])\n",
    "f3.setRelativePosition([-0.1, -0.1, 0.5])\n",
    "\n",
    "f4 = C.addFrame(name=\"tray\", parent=\"stove1\")\n",
    "f4.setShape(type=ry.ST.ssBox, size=[0.2, 0.2, 0.05, 0.02])\n",
    "f4.setColor([0.0, 1.0, 0.0])\n",
    "f4.setRelativePosition([0.0, 0.0, 0.42])\n",
    "f4.setQuaternion([0.92388, 0.0, 0.0, 0.38268])\n",
    "\n",
    "C.view()"
   ]
  },
  {
   "cell_type": "markdown",
   "metadata": {},
   "source": [
    "#### Part C"
   ]
  },
  {
   "cell_type": "code",
   "execution_count": 9,
   "metadata": {},
   "outputs": [
    {
     "name": "stdout",
     "output_type": "stream",
     "text": [
      "-- WARNING:kin.cpp:addFrame:193(-1) frame already exists! returning existing without modifications!\n",
      "[0.5  2.   0.82]\n",
      "-- WARNING:kin.cpp:addFrame:193(-1) frame already exists! returning existing without modifications!\n",
      "-- WARNING:kin.cpp:addFrame:193(-1) frame already exists! returning existing without modifications!\n",
      "-- WARNING:kin.cpp:addFrame:193(-1) frame already exists! returning existing without modifications!\n",
      "-- WARNING:kin.cpp:addFrame:193(-1) frame already exists! returning existing without modifications!\n",
      "-- WARNING:kin.cpp:addFrame:193(-1) frame already exists! returning existing without modifications!\n",
      "-- WARNING:kin.cpp:addFrame:193(-1) frame already exists! returning existing without modifications!\n",
      "[2.    0.    0.795]\n"
     ]
    }
   ],
   "source": [
    "positions = [[0.5, 2., 0.82], [2., 0., 0.795]]\n",
    "\n",
    "f5 = C.addFrame(name=\"tray2\", parent=\"stove1\")\n",
    "f5.setShape(type=ry.ST.ssBox, size=[0.4, 0.4, 0.05, 0.02])\n",
    "f5.setColor([0.0, 1.0, 0.0])\n",
    "f5.setRelativePosition([0.0, 0.0, 0.42])\n",
    "f5.setQuaternion([0.92388, 0.0, 0.0, 0.38268])\n",
    "\n",
    "for i in range(2):\n",
    "    f5.setPosition(positions[i])\n",
    "\n",
    "    f6 = C.addFrame(name=\"hammer_handle2\", parent=\"tray2\")\n",
    "    f6.setShape(type=ry.ST.ssBox, size=[0.3, 0.05, 0.03, 0.005])\n",
    "    f6.setColor([0.65, 0.50, 0.39])\n",
    "    f6.setRelativePosition([0, 0.1, 0.04])\n",
    "\n",
    "    f7 = C.addFrame(name=\"hammer_head2\", parent=\"hammer_handle2\")\n",
    "    f7.setShape(type=ry.ST.ssBox, size=[0.1, 0.05, 0.03, 0.005])\n",
    "    f7.setColor([0.55, 0.57, 0.58])\n",
    "    f7.setRelativePosition([0.12, 0.0, 0.001])\n",
    "    f7.setRelativeQuaternion([1, 0, 0, 1])\n",
    "\n",
    "    f8 = C.addFrame(name=\"mug2\", parent=\"tray2\")\n",
    "    f8.setShape(type=ry.ST.ssBox, size=[0.05, 0.05, 0.2, .01])\n",
    "    f8.setColor([0.2, 0.2, 0.2])\n",
    "    f8.setRelativePosition([-0.1, -0.1, 0.125])\n",
    "    print(f5.getPosition())\n",
    "    C.view()\n",
    "    time.sleep(5)\n",
    "    "
   ]
  },
  {
   "cell_type": "markdown",
   "metadata": {},
   "source": [
    "### Question 2\n",
    "#### Part A"
   ]
  },
  {
   "cell_type": "code",
   "execution_count": null,
   "metadata": {},
   "outputs": [],
   "source": []
  },
  {
   "cell_type": "markdown",
   "metadata": {},
   "source": [
    "#### Part B"
   ]
  },
  {
   "cell_type": "code",
   "execution_count": null,
   "metadata": {},
   "outputs": [],
   "source": []
  },
  {
   "cell_type": "markdown",
   "metadata": {},
   "source": [
    "#### Part C"
   ]
  },
  {
   "cell_type": "code",
   "execution_count": null,
   "metadata": {},
   "outputs": [],
   "source": []
  }
 ],
 "metadata": {
  "kernelspec": {
   "display_name": "Python 3",
   "language": "python",
   "name": "python3"
  },
  "language_info": {
   "codemirror_mode": {
    "name": "ipython",
    "version": 3
   },
   "file_extension": ".py",
   "mimetype": "text/x-python",
   "name": "python",
   "nbconvert_exporter": "python",
   "pygments_lexer": "ipython3",
   "version": "3.10.12"
  }
 },
 "nbformat": 4,
 "nbformat_minor": 2
}
